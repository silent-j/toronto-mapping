{
 "cells": [
  {
   "cell_type": "code",
   "execution_count": 2,
   "metadata": {},
   "outputs": [],
   "source": [
    "import os\n",
    "import numpy as np\n",
    "import geopandas as gpd\n",
    "import seaborn as sns\n",
    "import matplotlib.pyplot as plt\n",
    "\n",
    "sns.set_style('white')\n",
    "sns.set(font_scale=1.5)\n",
    "\n",
    "data_dir = r'C:\\Users\\James\\toronto-open-data-portal'\n",
    "\n",
    "nbrhood_shp_path = os.path.join(data_dir, 'toronto-nbrhoods-wgs84', 'Neighbourhoods.shp')\n",
    "nbrhood_covid_count_path = os.path.join(data_dir, 'toronto-covid-nbrhood-count-060820.csv')\n",
    "nbrhood_covid_rate_path = os.path.join(data_dir, 'toronto-covid-nbrhood-rate-060820.csv')\n"
   ]
  },
  {
   "cell_type": "code",
   "execution_count": null,
   "metadata": {},
   "outputs": [],
   "source": []
  }
 ],
 "metadata": {
  "kernelspec": {
   "display_name": "Python (Earth Analytics)",
   "language": "python",
   "name": "earth-analytics-python"
  },
  "language_info": {
   "codemirror_mode": {
    "name": "ipython",
    "version": 3
   },
   "file_extension": ".py",
   "mimetype": "text/x-python",
   "name": "python",
   "nbconvert_exporter": "python",
   "pygments_lexer": "ipython3",
   "version": "3.7.6"
  }
 },
 "nbformat": 4,
 "nbformat_minor": 4
}
