{
 "cells": [
  {
   "cell_type": "code",
   "execution_count": null,
   "metadata": {},
   "outputs": [],
   "source": [
    "import os\n",
    "import numpy as np\n",
    "import pandas as pd\n",
    "\n",
    "data_dir = r'C:\\Users\\James\\toronto-open-data-portal'"
   ]
  },
  {
   "cell_type": "code",
   "execution_count": null,
   "metadata": {},
   "outputs": [],
   "source": [
    "# reading in the demographic info per neighbourhood\n",
    "\n",
    "demo_profiles = pd.read_csv(os.path.join(data_dir, 'toronto-nbrhoods-wgs84', 'nbrhood-profiles-2016.csv'),\n",
    "                            encoding='ISO-8859-1')\n",
    "\n",
    "demo_profiles.head(3)"
   ]
  },
  {
   "cell_type": "code",
   "execution_count": null,
   "metadata": {},
   "outputs": [],
   "source": [
    "profile_cols = list(zip(demo_profiles.T.loc['Category', :], demo_profiles.T.loc['Characteristic', :]))\n",
    "demo_profiles = demo_profiles.iloc[:,6:]\n",
    "\n",
    "index = pd.MultiIndex.from_tuples(profile_cols, names=['Category', 'Characteristic'])\n",
    "\n",
    "demo_profiles.set_index(index, inplace=True)\n",
    "demo_profiles = demo_profiles.T"
   ]
  },
  {
   "cell_type": "code",
   "execution_count": null,
   "metadata": {},
   "outputs": [],
   "source": [
    "demo_profiles.head(3)"
   ]
  }
 ],
 "metadata": {
  "kernelspec": {
   "display_name": "Python (Earth Analytics)",
   "language": "python",
   "name": "earth-analytics-python"
  },
  "language_info": {
   "codemirror_mode": {
    "name": "ipython",
    "version": 3
   },
   "file_extension": ".py",
   "mimetype": "text/x-python",
   "name": "python",
   "nbconvert_exporter": "python",
   "pygments_lexer": "ipython3",
   "version": "3.7.6"
  }
 },
 "nbformat": 4,
 "nbformat_minor": 4
}
